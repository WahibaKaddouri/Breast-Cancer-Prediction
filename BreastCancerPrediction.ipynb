{
 "cells": [
  {
   "cell_type": "code",
   "execution_count": 1,
   "metadata": {},
   "outputs": [],
   "source": [
    "CSV_PATH = \"C:/Users/breastcancer.csv\"\n",
    "APP_NAME = \"BDM2\"\n",
    "SPARK_URL = \"local[*]\"\n",
    "RANDOM_SEED = 13579\n",
    "TRAINING_DATA_RATIO = 0.7\n",
    "MAX_DEPTH = 4\n",
    "NUM_BINS = 32"
   ]
  },
  {
   "cell_type": "code",
   "execution_count": 2,
   "metadata": {},
   "outputs": [
    {
     "name": "stdout",
     "output_type": "stream",
     "text": [
      "Nombre total de lignes: 699\n"
     ]
    }
   ],
   "source": [
    "from pyspark import SparkContext\n",
    "from pyspark.sql import SparkSession\n",
    "from pyspark.sql.functions import col\n",
    "\n",
    "spark = SparkSession.builder \\\n",
    "    .appName(APP_NAME) \\\n",
    "    .master(SPARK_URL) \\\n",
    "    .getOrCreate()\n",
    "\n",
    "#Acquisition des données sous forme de dataframe\n",
    "df = spark.read \\\n",
    "    .options(header = \"true\", inferschema = \"true\") \\\n",
    "    .csv(CSV_PATH)\n",
    "    \n",
    "\n",
    "print(\"Nombre total de lignes: %d\" % df.count())"
   ]
  },
  {
   "cell_type": "code",
   "execution_count": 3,
   "metadata": {},
   "outputs": [
    {
     "name": "stdout",
     "output_type": "stream",
     "text": [
      "Nombre de lignes dans le dataset d'entrainement: 447\n",
      "Nombre de lignes dans le dataset de test: 236\n"
     ]
    }
   ],
   "source": [
    "from pyspark.mllib.linalg import Vectors\n",
    "from pyspark.mllib.regression import LabeledPoint\n",
    "\n",
    "\n",
    "#Prétraitement et transformation des données\n",
    "#Suppression des données manquantes qui se trouvent au niveau de la 6eme colonne\n",
    "transformed_df = df.rdd.filter(lambda x: x[6] != \"?\").map(lambda row: LabeledPoint(row[-1], Vectors.dense(row[0:-1])))\n",
    "splits = [TRAINING_DATA_RATIO, 1.0 - TRAINING_DATA_RATIO]\n",
    "\n",
    "#Diviser le dataset en dataset de test et dataset de traitement\n",
    "training_data, test_data = transformed_df.randomSplit(splits, RANDOM_SEED)\n",
    "\n",
    "print(\"Nombre de lignes dans le dataset d'entrainement: %d\" % training_data.count())\n",
    "print(\"Nombre de lignes dans le dataset de test: %d\" % test_data.count())"
   ]
  },
  {
   "cell_type": "code",
   "execution_count": 4,
   "metadata": {
    "scrolled": true
   },
   "outputs": [
    {
     "name": "stdout",
     "output_type": "stream",
     "text": [
      "Temps d'entrainement du dataset: 4.858 seconds\n"
     ]
    }
   ],
   "source": [
    "from pyspark.mllib.tree import DecisionTree\n",
    "from time import *\n",
    "\n",
    "start_time = time()\n",
    "\n",
    "#Traitement : Construction du modèle Arbre de Décision\n",
    "model = DecisionTree.trainClassifier(training_data, numClasses=5, categoricalFeaturesInfo={}, \\\n",
    "    impurity=\"gini\", maxDepth=MAX_DEPTH, maxBins=NUM_BINS)\n",
    "\n",
    "end_time = time()\n",
    "elapsed_time = end_time - start_time\n",
    "print(\"Temps d'entrainement du dataset: %.3f seconds\" % elapsed_time)"
   ]
  },
  {
   "cell_type": "code",
   "execution_count": 5,
   "metadata": {},
   "outputs": [
    {
     "name": "stdout",
     "output_type": "stream",
     "text": [
      "Précision du modèle: 93.220%\n"
     ]
    }
   ],
   "source": [
    "#Evaluation du modèle\n",
    "\n",
    "predictions = model.predict(test_data.map(lambda x: x.features))\n",
    "labels_and_predictions = test_data.map(lambda x: x.label).zip(predictions)\n",
    "acc = labels_and_predictions.filter(lambda x: x[0] == x[1]).count() / float(test_data.count())\n",
    "print(\"Précision du modèle: %.3f%%\" % (acc * 100))"
   ]
  },
  {
   "cell_type": "code",
   "execution_count": 6,
   "metadata": {},
   "outputs": [
    {
     "name": "stdout",
     "output_type": "stream",
     "text": [
      "DecisionTreeModel classifier of depth 4 with 17 nodes\n",
      "  If (feature 2 <= 2.5)\n",
      "   If (feature 8 <= 3.5)\n",
      "    Predict: 2.0\n",
      "   Else (feature 8 > 3.5)\n",
      "    If (feature 1 <= 3.5)\n",
      "     Predict: 2.0\n",
      "    Else (feature 1 > 3.5)\n",
      "     Predict: 4.0\n",
      "  Else (feature 2 > 2.5)\n",
      "   If (feature 6 <= 1.5)\n",
      "    If (feature 4 <= 3.5)\n",
      "     Predict: 2.0\n",
      "    Else (feature 4 > 3.5)\n",
      "     Predict: 4.0\n",
      "   Else (feature 6 > 1.5)\n",
      "    If (feature 3 <= 2.5)\n",
      "     If (feature 0 <= 1133563.5)\n",
      "      Predict: 4.0\n",
      "     Else (feature 0 > 1133563.5)\n",
      "      Predict: 2.0\n",
      "    Else (feature 3 > 2.5)\n",
      "     If (feature 6 <= 8.5)\n",
      "      Predict: 4.0\n",
      "     Else (feature 6 > 8.5)\n",
      "      Predict: 4.0\n",
      "\n"
     ]
    }
   ],
   "source": [
    "print (model.toDebugString())"
   ]
  }
 ],
 "metadata": {
  "kernelspec": {
   "display_name": "Python 3",
   "language": "python",
   "name": "python3"
  },
  "language_info": {
   "codemirror_mode": {
    "name": "ipython",
    "version": 3
   },
   "file_extension": ".py",
   "mimetype": "text/x-python",
   "name": "python",
   "nbconvert_exporter": "python",
   "pygments_lexer": "ipython3",
   "version": "3.6.4"
  }
 },
 "nbformat": 4,
 "nbformat_minor": 2
}
